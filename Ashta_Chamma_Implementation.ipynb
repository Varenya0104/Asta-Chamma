{
  "nbformat": 4,
  "nbformat_minor": 0,
  "metadata": {
    "colab": {
      "provenance": []
    },
    "kernelspec": {
      "name": "python3",
      "display_name": "Python 3"
    },
    "language_info": {
      "name": "python"
    }
  },
  "cells": [
    {
      "cell_type": "markdown",
      "source": [
        "Asta Chamma, in this context, involves a smaller game board and simpler rules compared to its traditional counterpart. Typically, it is played on a 5x5 grid with fewer pieces, and the objective remains the same: to move all your pieces from the starting area to the home area.\n",
        "\n",
        "Researchers use Asta Chamma to explore various AI techniques and algorithms, such as:\n",
        "\n",
        "Monte Carlo Tree Search (MCTS): MCTS algorithms are used to efficiently search through the game tree and select optimal moves based on simulated play-outs.\n",
        "Reinforcement Learning (RL): RL algorithms learn to play Asta Chamma through trial and error, adjusting their strategies based on feedback from the game environment.\n",
        "Heuristic Search: Heuristic search algorithms employ domain-specific heuristics to guide search and decision-making in Asta Chamma.\n",
        "Evolutionary Algorithms: Evolutionary algorithms are used to evolve strategies for playing Asta Chamma over multiple generations.\n",
        "By studying AI agents playing Asta Chamma, researchers can gain insights into the effectiveness of different algorithms, their performance in complex decision-making environments, and their ability to adapt and learn from experience. Additionally, Asta Chamma serves as a testbed for evaluating the robustness and scalability of AI techniques in real-world applications beyond gaming."
      ],
      "metadata": {
        "id": "petJIrj-DUWT"
      }
    },
    {
      "cell_type": "code",
      "source": [
        "import random\n",
        "\n",
        "board = [' '] * 25\n",
        "player_positions = [0, 0]\n",
        "players = ['You', 'Computer']\n",
        "\n",
        "safe_boxes = [4, 12, 20]\n",
        "other_markings = {5: '*', 8: 'X', 16: 'O', 24: '#'}\n",
        "\n",
        "def roll_die():\n",
        "    return random.randint(1, 6)\n",
        "\n",
        "def move_player(player, steps):\n",
        "    player_positions[player] += steps\n",
        "    if player_positions[player] >= len(board):\n",
        "        player_positions[player] %= len(board)\n",
        "\n",
        "def display_board():\n",
        "    for i, player in enumerate(player_positions):\n",
        "        if board[player] == ' ':\n",
        "            board[player] = str(i + 1)\n",
        "\n",
        "    print(\"+----\" * 5 + \"+\")\n",
        "    for i in range(0, len(board), 5):\n",
        "        row = \"|\"\n",
        "        for j in range(5):\n",
        "            cell = board[i + j]\n",
        "            if cell == ' ':\n",
        "                if (i + j) in safe_boxes:\n",
        "                    row += \" S  |\"\n",
        "                elif (i + j) in other_markings:\n",
        "                    row += f\" {other_markings[i + j]}  |\"\n",
        "                else:\n",
        "                    row += \"    |\"\n",
        "            else:\n",
        "                row += f\" {cell}  |\"\n",
        "        print(row)\n",
        "        print(\"+----\" * 5 + \"+\")\n",
        "\n",
        "    for i, player in enumerate(player_positions):\n",
        "        board[player] = ' '\n",
        "\n",
        "current_player = 0\n",
        "\n",
        "while True:\n",
        "    input(f\"{players[current_player]}'s turn. Press Enter to roll the die...\")\n",
        "\n",
        "    if current_player == 0:\n",
        "        steps = roll_die()\n",
        "        print(f\"{players[current_player]} rolled a {steps}\")\n",
        "        move_player(current_player, steps)\n",
        "        display_board()\n",
        "\n",
        "    else:\n",
        "        steps = roll_die()\n",
        "        print(f\"{players[current_player]} rolled a {steps}\")\n",
        "        move_player(current_player, steps)\n",
        "        display_board()\n",
        "\n",
        "\n",
        "    if player_positions[current_player] == len(board) - 1:\n",
        "        print(f\"{players[current_player]} has won!\")\n",
        "        break\n",
        "\n",
        "    user_input = input(\"Press 'q' to quit the game or any other key to continue: \")\n",
        "    if user_input.lower() == 'q':\n",
        "        break\n",
        "\n",
        "    current_player = 1 - current_player\n"
      ],
      "metadata": {
        "colab": {
          "base_uri": "https://localhost:8080/"
        },
        "id": "ZP7SkrSO77Gm",
        "outputId": "5fa189a3-b04a-40dc-b0da-53b268df44cc"
      },
      "execution_count": null,
      "outputs": [
        {
          "name": "stdout",
          "output_type": "stream",
          "text": [
            "You's turn. Press Enter to roll the die...\n",
            "You rolled a 3\n",
            "+----+----+----+----+----+\n",
            "| 2  |    |    | 1  | S  |\n",
            "+----+----+----+----+----+\n",
            "| *  |    |    | X  |    |\n",
            "+----+----+----+----+----+\n",
            "|    |    | S  |    |    |\n",
            "+----+----+----+----+----+\n",
            "|    | O  |    |    |    |\n",
            "+----+----+----+----+----+\n",
            "| S  |    |    |    | #  |\n",
            "+----+----+----+----+----+\n",
            "Press 'q' to quit the game or any other key to continue: \n",
            "Computer's turn. Press Enter to roll the die...\n",
            "Computer rolled a 2\n",
            "+----+----+----+----+----+\n",
            "|    |    | 2  | 1  | S  |\n",
            "+----+----+----+----+----+\n",
            "| *  |    |    | X  |    |\n",
            "+----+----+----+----+----+\n",
            "|    |    | S  |    |    |\n",
            "+----+----+----+----+----+\n",
            "|    | O  |    |    |    |\n",
            "+----+----+----+----+----+\n",
            "| S  |    |    |    | #  |\n",
            "+----+----+----+----+----+\n",
            "Press 'q' to quit the game or any other key to continue: \n",
            "You's turn. Press Enter to roll the die...\n",
            "You rolled a 2\n",
            "+----+----+----+----+----+\n",
            "|    |    | 2  |    | S  |\n",
            "+----+----+----+----+----+\n",
            "| 1  |    |    | X  |    |\n",
            "+----+----+----+----+----+\n",
            "|    |    | S  |    |    |\n",
            "+----+----+----+----+----+\n",
            "|    | O  |    |    |    |\n",
            "+----+----+----+----+----+\n",
            "| S  |    |    |    | #  |\n",
            "+----+----+----+----+----+\n",
            "Press 'q' to quit the game or any other key to continue: q\n"
          ]
        }
      ]
    }
  ]
}